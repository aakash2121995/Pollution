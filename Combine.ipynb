{
 "cells": [
  {
   "cell_type": "code",
   "execution_count": 1,
   "metadata": {
    "collapsed": true,
    "deletable": true,
    "editable": true
   },
   "outputs": [],
   "source": [
    "import pandas as pd\n",
    "import os\n",
    "import glob"
   ]
  },
  {
   "cell_type": "code",
   "execution_count": null,
   "metadata": {
    "collapsed": false,
    "deletable": true,
    "editable": true
   },
   "outputs": [],
   "source": [
    "def mergeAll(csvList, folder):\n",
    "    stname = folder[:-1]\n",
    "    print \"station name is\", stname\n",
    "    df1 = pd.read_csv(csvList[0], dtype = {'Date': 'str', 'Time': 'str', 'Values': 'str'}, low_memory=False)\n",
    "    df1.rename(columns={'Values': csvList[0][:-4]}, inplace=True)\n",
    "    \n",
    "    print df1.columns \n",
    "    #print df1.info()\n",
    "    #df[df1.columns[2]] = df[df1.columns[2]].as\n",
    "    \n",
    "    for i in range(1, len(csvList)):\n",
    "        df2 = pd.read_csv(csvList[i], dtype = {'Date': 'str', 'Time': 'str', 'Values': 'str'}, low_memory=False)\n",
    "        df2.rename(columns={'Values': csvList[i][:-4]}, inplace=True)\n",
    "        df1 = df1.merge(df2, how='outer', on=['Date', 'Time'])\n",
    "    \n",
    "    df1.to_csv(stName + \".csv\")"
   ]
  },
  {
   "cell_type": "code",
   "execution_count": null,
   "metadata": {
    "collapsed": false,
    "deletable": true,
    "editable": true,
    "scrolled": false
   },
   "outputs": [
    {
     "name": "stdout",
     "output_type": "stream",
     "text": [
      "Reading folders ...\n",
      "['Anand Vihar/', 'IGI Airport/', 'ITO/', 'IHBAS/', 'MOBILE VAN/', 'Shadipur/', 'Mandir Marg/', 'Punjabi Bagh/', 'Civil Lines/', 'East Arjun Nagar-Delhi CPCB/', 'Sirifort/', 'R K Puram/', 'Dwarka/', 'DTU/']\n",
      "\n",
      "station name is Anand Vihar\n",
      "Index([u'Date', u'Time', u'Anand Vihar/Nitrogen Dioxide(NO2)'], dtype='object')\n"
     ]
    }
   ],
   "source": [
    "print \"Reading folders ...\"\n",
    "folders  = glob.glob(\"*/\")\n",
    "print folders\n",
    "print\n",
    "for f in folders:\n",
    "    csvName = glob.glob(f+\"*.csv\")\n",
    "    \n",
    "    mergeAll(csvName, f)"
   ]
  },
  {
   "cell_type": "code",
   "execution_count": null,
   "metadata": {
    "collapsed": true,
    "deletable": true,
    "editable": true
   },
   "outputs": [],
   "source": []
  },
  {
   "cell_type": "code",
   "execution_count": null,
   "metadata": {
    "collapsed": true,
    "deletable": true,
    "editable": true
   },
   "outputs": [],
   "source": []
  }
 ],
 "metadata": {
  "kernelspec": {
   "display_name": "Python 2",
   "language": "python",
   "name": "python2"
  },
  "language_info": {
   "codemirror_mode": {
    "name": "ipython",
    "version": 2
   },
   "file_extension": ".py",
   "mimetype": "text/x-python",
   "name": "python",
   "nbconvert_exporter": "python",
   "pygments_lexer": "ipython2",
   "version": "2.7.12"
  }
 },
 "nbformat": 4,
 "nbformat_minor": 2
}
